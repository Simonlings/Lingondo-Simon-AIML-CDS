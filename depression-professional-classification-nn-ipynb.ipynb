{
 "cells": [
  {
   "cell_type": "markdown",
   "id": "c3cd1d71",
   "metadata": {
    "id": "9ps3Upa9pTgI",
    "papermill": {
     "duration": 0.005586,
     "end_time": "2024-11-21T17:32:05.567225",
     "exception": false,
     "start_time": "2024-11-21T17:32:05.561639",
     "status": "completed"
    },
    "tags": []
   },
   "source": [
    "# Libraries"
   ]
  },
  {
   "cell_type": "code",
   "execution_count": 1,
   "id": "a4e4a052",
   "metadata": {
    "execution": {
     "iopub.execute_input": "2024-11-21T17:32:05.578939Z",
     "iopub.status.busy": "2024-11-21T17:32:05.578529Z",
     "iopub.status.idle": "2024-11-21T17:32:20.710588Z",
     "shell.execute_reply": "2024-11-21T17:32:20.709589Z"
    },
    "id": "m3sHe_N7pVFc",
    "papermill": {
     "duration": 15.140602,
     "end_time": "2024-11-21T17:32:20.712889",
     "exception": false,
     "start_time": "2024-11-21T17:32:05.572287",
     "status": "completed"
    },
    "tags": []
   },
   "outputs": [],
   "source": [
    "import numpy as np\n",
    "import pandas as pd\n",
    "import tensorflow as tf\n",
    "\n",
    "from sklearn.model_selection import train_test_split\n",
    "import matplotlib.pyplot as plt\n",
    "\n",
    "from sklearn.metrics import classification_report, accuracy_score,f1_score,recall_score, precision_score, confusion_matrix, ConfusionMatrixDisplay"
   ]
  },
  {
   "cell_type": "markdown",
   "id": "5b768a9c",
   "metadata": {
    "id": "bMF5GhfPpYMD",
    "papermill": {
     "duration": 0.005332,
     "end_time": "2024-11-21T17:32:20.723666",
     "exception": false,
     "start_time": "2024-11-21T17:32:20.718334",
     "status": "completed"
    },
    "tags": []
   },
   "source": [
    "# Load the Data"
   ]
  },
  {
   "cell_type": "code",
   "execution_count": 2,
   "id": "e1f8908a",
   "metadata": {
    "execution": {
     "iopub.execute_input": "2024-11-21T17:32:20.735742Z",
     "iopub.status.busy": "2024-11-21T17:32:20.734434Z",
     "iopub.status.idle": "2024-11-21T17:32:20.764465Z",
     "shell.execute_reply": "2024-11-21T17:32:20.763408Z"
    },
    "id": "CnIdeA2xpdOs",
    "outputId": "dc1da2f7-ac92-4722-ddeb-9278806f98f5",
    "papermill": {
     "duration": 0.038448,
     "end_time": "2024-11-21T17:32:20.766969",
     "exception": false,
     "start_time": "2024-11-21T17:32:20.728521",
     "status": "completed"
    },
    "tags": []
   },
   "outputs": [],
   "source": [
    "df = pd.read_csv('/kaggle/input/depression-professional-dataset/Depression Professional Dataset.csv')"
   ]
  },
  {
   "cell_type": "markdown",
   "id": "654e3cd4",
   "metadata": {
    "id": "2mjjQ5T4pa4p",
    "papermill": {
     "duration": 0.004675,
     "end_time": "2024-11-21T17:32:20.776816",
     "exception": false,
     "start_time": "2024-11-21T17:32:20.772141",
     "status": "completed"
    },
    "tags": []
   },
   "source": [
    "# Data Information"
   ]
  },
  {
   "cell_type": "code",
   "execution_count": 3,
   "id": "6f2ce7f6",
   "metadata": {
    "execution": {
     "iopub.execute_input": "2024-11-21T17:32:20.789430Z",
     "iopub.status.busy": "2024-11-21T17:32:20.789054Z",
     "iopub.status.idle": "2024-11-21T17:32:20.813410Z",
     "shell.execute_reply": "2024-11-21T17:32:20.812265Z"
    },
    "id": "Hi8Q1r3upSi1",
    "outputId": "dac4fd7c-9f44-4ba6-9e76-a551a1f3cf48",
    "papermill": {
     "duration": 0.033871,
     "end_time": "2024-11-21T17:32:20.815589",
     "exception": false,
     "start_time": "2024-11-21T17:32:20.781718",
     "status": "completed"
    },
    "tags": []
   },
   "outputs": [
    {
     "data": {
      "text/html": [
       "<div>\n",
       "<style scoped>\n",
       "    .dataframe tbody tr th:only-of-type {\n",
       "        vertical-align: middle;\n",
       "    }\n",
       "\n",
       "    .dataframe tbody tr th {\n",
       "        vertical-align: top;\n",
       "    }\n",
       "\n",
       "    .dataframe thead th {\n",
       "        text-align: right;\n",
       "    }\n",
       "</style>\n",
       "<table border=\"1\" class=\"dataframe\">\n",
       "  <thead>\n",
       "    <tr style=\"text-align: right;\">\n",
       "      <th></th>\n",
       "      <th>Gender</th>\n",
       "      <th>Age</th>\n",
       "      <th>Work Pressure</th>\n",
       "      <th>Job Satisfaction</th>\n",
       "      <th>Sleep Duration</th>\n",
       "      <th>Dietary Habits</th>\n",
       "      <th>Have you ever had suicidal thoughts ?</th>\n",
       "      <th>Work Hours</th>\n",
       "      <th>Financial Stress</th>\n",
       "      <th>Family History of Mental Illness</th>\n",
       "      <th>Depression</th>\n",
       "    </tr>\n",
       "  </thead>\n",
       "  <tbody>\n",
       "    <tr>\n",
       "      <th>0</th>\n",
       "      <td>Female</td>\n",
       "      <td>37</td>\n",
       "      <td>2.0</td>\n",
       "      <td>4.0</td>\n",
       "      <td>7-8 hours</td>\n",
       "      <td>Moderate</td>\n",
       "      <td>No</td>\n",
       "      <td>6</td>\n",
       "      <td>2</td>\n",
       "      <td>No</td>\n",
       "      <td>No</td>\n",
       "    </tr>\n",
       "    <tr>\n",
       "      <th>1</th>\n",
       "      <td>Male</td>\n",
       "      <td>60</td>\n",
       "      <td>4.0</td>\n",
       "      <td>3.0</td>\n",
       "      <td>5-6 hours</td>\n",
       "      <td>Unhealthy</td>\n",
       "      <td>Yes</td>\n",
       "      <td>0</td>\n",
       "      <td>4</td>\n",
       "      <td>Yes</td>\n",
       "      <td>No</td>\n",
       "    </tr>\n",
       "    <tr>\n",
       "      <th>2</th>\n",
       "      <td>Female</td>\n",
       "      <td>42</td>\n",
       "      <td>2.0</td>\n",
       "      <td>3.0</td>\n",
       "      <td>5-6 hours</td>\n",
       "      <td>Moderate</td>\n",
       "      <td>No</td>\n",
       "      <td>0</td>\n",
       "      <td>2</td>\n",
       "      <td>No</td>\n",
       "      <td>No</td>\n",
       "    </tr>\n",
       "    <tr>\n",
       "      <th>3</th>\n",
       "      <td>Female</td>\n",
       "      <td>44</td>\n",
       "      <td>3.0</td>\n",
       "      <td>5.0</td>\n",
       "      <td>7-8 hours</td>\n",
       "      <td>Healthy</td>\n",
       "      <td>Yes</td>\n",
       "      <td>1</td>\n",
       "      <td>2</td>\n",
       "      <td>Yes</td>\n",
       "      <td>No</td>\n",
       "    </tr>\n",
       "    <tr>\n",
       "      <th>4</th>\n",
       "      <td>Male</td>\n",
       "      <td>48</td>\n",
       "      <td>4.0</td>\n",
       "      <td>3.0</td>\n",
       "      <td>7-8 hours</td>\n",
       "      <td>Moderate</td>\n",
       "      <td>Yes</td>\n",
       "      <td>6</td>\n",
       "      <td>5</td>\n",
       "      <td>Yes</td>\n",
       "      <td>No</td>\n",
       "    </tr>\n",
       "  </tbody>\n",
       "</table>\n",
       "</div>"
      ],
      "text/plain": [
       "   Gender  Age  Work Pressure  Job Satisfaction Sleep Duration Dietary Habits  \\\n",
       "0  Female   37            2.0               4.0      7-8 hours       Moderate   \n",
       "1    Male   60            4.0               3.0      5-6 hours      Unhealthy   \n",
       "2  Female   42            2.0               3.0      5-6 hours       Moderate   \n",
       "3  Female   44            3.0               5.0      7-8 hours        Healthy   \n",
       "4    Male   48            4.0               3.0      7-8 hours       Moderate   \n",
       "\n",
       "  Have you ever had suicidal thoughts ?  Work Hours  Financial Stress  \\\n",
       "0                                    No           6                 2   \n",
       "1                                   Yes           0                 4   \n",
       "2                                    No           0                 2   \n",
       "3                                   Yes           1                 2   \n",
       "4                                   Yes           6                 5   \n",
       "\n",
       "  Family History of Mental Illness Depression  \n",
       "0                               No         No  \n",
       "1                              Yes         No  \n",
       "2                               No         No  \n",
       "3                              Yes         No  \n",
       "4                              Yes         No  "
      ]
     },
     "execution_count": 3,
     "metadata": {},
     "output_type": "execute_result"
    }
   ],
   "source": [
    "df.head()"
   ]
  },
  {
   "cell_type": "code",
   "execution_count": 4,
   "id": "abb107c9",
   "metadata": {
    "execution": {
     "iopub.execute_input": "2024-11-21T17:32:20.827820Z",
     "iopub.status.busy": "2024-11-21T17:32:20.827463Z",
     "iopub.status.idle": "2024-11-21T17:32:20.855344Z",
     "shell.execute_reply": "2024-11-21T17:32:20.853735Z"
    },
    "id": "sPAMdE77p-Df",
    "outputId": "dd3b7bf1-30e5-4a46-b8f5-548e0b9c4569",
    "papermill": {
     "duration": 0.036684,
     "end_time": "2024-11-21T17:32:20.857621",
     "exception": false,
     "start_time": "2024-11-21T17:32:20.820937",
     "status": "completed"
    },
    "tags": []
   },
   "outputs": [
    {
     "name": "stdout",
     "output_type": "stream",
     "text": [
      "<class 'pandas.core.frame.DataFrame'>\n",
      "RangeIndex: 2054 entries, 0 to 2053\n",
      "Data columns (total 11 columns):\n",
      " #   Column                                 Non-Null Count  Dtype  \n",
      "---  ------                                 --------------  -----  \n",
      " 0   Gender                                 2054 non-null   object \n",
      " 1   Age                                    2054 non-null   int64  \n",
      " 2   Work Pressure                          2054 non-null   float64\n",
      " 3   Job Satisfaction                       2054 non-null   float64\n",
      " 4   Sleep Duration                         2054 non-null   object \n",
      " 5   Dietary Habits                         2054 non-null   object \n",
      " 6   Have you ever had suicidal thoughts ?  2054 non-null   object \n",
      " 7   Work Hours                             2054 non-null   int64  \n",
      " 8   Financial Stress                       2054 non-null   int64  \n",
      " 9   Family History of Mental Illness       2054 non-null   object \n",
      " 10  Depression                             2054 non-null   object \n",
      "dtypes: float64(2), int64(3), object(6)\n",
      "memory usage: 176.6+ KB\n"
     ]
    }
   ],
   "source": [
    "df.info()"
   ]
  },
  {
   "cell_type": "markdown",
   "id": "b899ba80",
   "metadata": {
    "id": "DdtsHxe9qBPB",
    "papermill": {
     "duration": 0.00492,
     "end_time": "2024-11-21T17:32:20.867848",
     "exception": false,
     "start_time": "2024-11-21T17:32:20.862928",
     "status": "completed"
    },
    "tags": []
   },
   "source": [
    "# Data Cleaning"
   ]
  },
  {
   "cell_type": "code",
   "execution_count": 5,
   "id": "a5b6ed30",
   "metadata": {
    "execution": {
     "iopub.execute_input": "2024-11-21T17:32:20.880119Z",
     "iopub.status.busy": "2024-11-21T17:32:20.879416Z",
     "iopub.status.idle": "2024-11-21T17:32:20.888605Z",
     "shell.execute_reply": "2024-11-21T17:32:20.887616Z"
    },
    "id": "5_b4_x_4qA2g",
    "outputId": "7f260798-7107-4255-c45a-cd3d9b765634",
    "papermill": {
     "duration": 0.017584,
     "end_time": "2024-11-21T17:32:20.890536",
     "exception": false,
     "start_time": "2024-11-21T17:32:20.872952",
     "status": "completed"
    },
    "tags": []
   },
   "outputs": [
    {
     "data": {
      "text/plain": [
       "0"
      ]
     },
     "execution_count": 5,
     "metadata": {},
     "output_type": "execute_result"
    }
   ],
   "source": [
    "df.duplicated().sum()"
   ]
  },
  {
   "cell_type": "markdown",
   "id": "5db0799f",
   "metadata": {
    "id": "X4UD837zqOkC",
    "papermill": {
     "duration": 0.004983,
     "end_time": "2024-11-21T17:32:20.900776",
     "exception": false,
     "start_time": "2024-11-21T17:32:20.895793",
     "status": "completed"
    },
    "tags": []
   },
   "source": [
    "# Data Prepocessing"
   ]
  },
  {
   "cell_type": "code",
   "execution_count": 6,
   "id": "ab585766",
   "metadata": {
    "execution": {
     "iopub.execute_input": "2024-11-21T17:32:20.912908Z",
     "iopub.status.busy": "2024-11-21T17:32:20.912531Z",
     "iopub.status.idle": "2024-11-21T17:32:20.922257Z",
     "shell.execute_reply": "2024-11-21T17:32:20.921121Z"
    },
    "id": "TJuEagtpqD2W",
    "papermill": {
     "duration": 0.018354,
     "end_time": "2024-11-21T17:32:20.924407",
     "exception": false,
     "start_time": "2024-11-21T17:32:20.906053",
     "status": "completed"
    },
    "tags": []
   },
   "outputs": [],
   "source": [
    "cols = ['Have you ever had suicidal thoughts ?', 'Family History of Mental Illness', 'Depression']\n",
    "\n",
    "def map(x):\n",
    "  if x == 'Yes':\n",
    "    return 1\n",
    "  else:\n",
    "    return 0\n",
    "\n",
    "for i in cols:\n",
    "  df[i] = df[i].apply(lambda x:1 if x == 'Yes' else 0)"
   ]
  },
  {
   "cell_type": "code",
   "execution_count": 7,
   "id": "02efd09d",
   "metadata": {
    "execution": {
     "iopub.execute_input": "2024-11-21T17:32:20.938567Z",
     "iopub.status.busy": "2024-11-21T17:32:20.937855Z",
     "iopub.status.idle": "2024-11-21T17:32:20.948232Z",
     "shell.execute_reply": "2024-11-21T17:32:20.947124Z"
    },
    "id": "t7MHuEbSqu-r",
    "papermill": {
     "duration": 0.019794,
     "end_time": "2024-11-21T17:32:20.950225",
     "exception": false,
     "start_time": "2024-11-21T17:32:20.930431",
     "status": "completed"
    },
    "tags": []
   },
   "outputs": [],
   "source": [
    "df['Gender'] = df['Gender'].apply(lambda x: 0 if x == 'Female' else 1)\n",
    "df['Sleep Duration'] = df['Sleep Duration'].apply(lambda x: 0 if x == '7-8 hours' else 1 if x == 'Less than 5 hours' else 2 if x == '5-6 hours' else 3)\n",
    "df['Dietary Habits'] = df['Dietary Habits'].apply(lambda x: 0 if x == 'Unhealthy' else 1 if x == 'Healthy' else 2)"
   ]
  },
  {
   "cell_type": "code",
   "execution_count": 8,
   "id": "cd16c6a3",
   "metadata": {
    "execution": {
     "iopub.execute_input": "2024-11-21T17:32:20.962414Z",
     "iopub.status.busy": "2024-11-21T17:32:20.961996Z",
     "iopub.status.idle": "2024-11-21T17:32:20.975377Z",
     "shell.execute_reply": "2024-11-21T17:32:20.974327Z"
    },
    "id": "ZgmLlT9gq7bf",
    "outputId": "11699396-3d92-4734-d4d9-3bcf0c64298f",
    "papermill": {
     "duration": 0.022114,
     "end_time": "2024-11-21T17:32:20.977641",
     "exception": false,
     "start_time": "2024-11-21T17:32:20.955527",
     "status": "completed"
    },
    "tags": []
   },
   "outputs": [
    {
     "data": {
      "text/html": [
       "<div>\n",
       "<style scoped>\n",
       "    .dataframe tbody tr th:only-of-type {\n",
       "        vertical-align: middle;\n",
       "    }\n",
       "\n",
       "    .dataframe tbody tr th {\n",
       "        vertical-align: top;\n",
       "    }\n",
       "\n",
       "    .dataframe thead th {\n",
       "        text-align: right;\n",
       "    }\n",
       "</style>\n",
       "<table border=\"1\" class=\"dataframe\">\n",
       "  <thead>\n",
       "    <tr style=\"text-align: right;\">\n",
       "      <th></th>\n",
       "      <th>Gender</th>\n",
       "      <th>Age</th>\n",
       "      <th>Work Pressure</th>\n",
       "      <th>Job Satisfaction</th>\n",
       "      <th>Sleep Duration</th>\n",
       "      <th>Dietary Habits</th>\n",
       "      <th>Have you ever had suicidal thoughts ?</th>\n",
       "      <th>Work Hours</th>\n",
       "      <th>Financial Stress</th>\n",
       "      <th>Family History of Mental Illness</th>\n",
       "      <th>Depression</th>\n",
       "    </tr>\n",
       "  </thead>\n",
       "  <tbody>\n",
       "    <tr>\n",
       "      <th>0</th>\n",
       "      <td>0</td>\n",
       "      <td>37</td>\n",
       "      <td>2.0</td>\n",
       "      <td>4.0</td>\n",
       "      <td>0</td>\n",
       "      <td>2</td>\n",
       "      <td>0</td>\n",
       "      <td>6</td>\n",
       "      <td>2</td>\n",
       "      <td>0</td>\n",
       "      <td>0</td>\n",
       "    </tr>\n",
       "    <tr>\n",
       "      <th>1</th>\n",
       "      <td>1</td>\n",
       "      <td>60</td>\n",
       "      <td>4.0</td>\n",
       "      <td>3.0</td>\n",
       "      <td>2</td>\n",
       "      <td>0</td>\n",
       "      <td>1</td>\n",
       "      <td>0</td>\n",
       "      <td>4</td>\n",
       "      <td>1</td>\n",
       "      <td>0</td>\n",
       "    </tr>\n",
       "    <tr>\n",
       "      <th>2</th>\n",
       "      <td>0</td>\n",
       "      <td>42</td>\n",
       "      <td>2.0</td>\n",
       "      <td>3.0</td>\n",
       "      <td>2</td>\n",
       "      <td>2</td>\n",
       "      <td>0</td>\n",
       "      <td>0</td>\n",
       "      <td>2</td>\n",
       "      <td>0</td>\n",
       "      <td>0</td>\n",
       "    </tr>\n",
       "    <tr>\n",
       "      <th>3</th>\n",
       "      <td>0</td>\n",
       "      <td>44</td>\n",
       "      <td>3.0</td>\n",
       "      <td>5.0</td>\n",
       "      <td>0</td>\n",
       "      <td>1</td>\n",
       "      <td>1</td>\n",
       "      <td>1</td>\n",
       "      <td>2</td>\n",
       "      <td>1</td>\n",
       "      <td>0</td>\n",
       "    </tr>\n",
       "    <tr>\n",
       "      <th>4</th>\n",
       "      <td>1</td>\n",
       "      <td>48</td>\n",
       "      <td>4.0</td>\n",
       "      <td>3.0</td>\n",
       "      <td>0</td>\n",
       "      <td>2</td>\n",
       "      <td>1</td>\n",
       "      <td>6</td>\n",
       "      <td>5</td>\n",
       "      <td>1</td>\n",
       "      <td>0</td>\n",
       "    </tr>\n",
       "  </tbody>\n",
       "</table>\n",
       "</div>"
      ],
      "text/plain": [
       "   Gender  Age  Work Pressure  Job Satisfaction  Sleep Duration  \\\n",
       "0       0   37            2.0               4.0               0   \n",
       "1       1   60            4.0               3.0               2   \n",
       "2       0   42            2.0               3.0               2   \n",
       "3       0   44            3.0               5.0               0   \n",
       "4       1   48            4.0               3.0               0   \n",
       "\n",
       "   Dietary Habits  Have you ever had suicidal thoughts ?  Work Hours  \\\n",
       "0               2                                      0           6   \n",
       "1               0                                      1           0   \n",
       "2               2                                      0           0   \n",
       "3               1                                      1           1   \n",
       "4               2                                      1           6   \n",
       "\n",
       "   Financial Stress  Family History of Mental Illness  Depression  \n",
       "0                 2                                 0           0  \n",
       "1                 4                                 1           0  \n",
       "2                 2                                 0           0  \n",
       "3                 2                                 1           0  \n",
       "4                 5                                 1           0  "
      ]
     },
     "execution_count": 8,
     "metadata": {},
     "output_type": "execute_result"
    }
   ],
   "source": [
    "df.head()"
   ]
  },
  {
   "cell_type": "markdown",
   "id": "e2ac555a",
   "metadata": {
    "id": "ufGoaObPsOoJ",
    "papermill": {
     "duration": 0.005262,
     "end_time": "2024-11-21T17:32:20.988662",
     "exception": false,
     "start_time": "2024-11-21T17:32:20.983400",
     "status": "completed"
    },
    "tags": []
   },
   "source": [
    "# Data Modeling"
   ]
  },
  {
   "cell_type": "markdown",
   "id": "3cdcef70",
   "metadata": {
    "id": "HqRA2yV1sY2D",
    "papermill": {
     "duration": 0.005216,
     "end_time": "2024-11-21T17:32:20.999405",
     "exception": false,
     "start_time": "2024-11-21T17:32:20.994189",
     "status": "completed"
    },
    "tags": []
   },
   "source": [
    "## Train Test Split"
   ]
  },
  {
   "cell_type": "code",
   "execution_count": 9,
   "id": "a5992e9f",
   "metadata": {
    "execution": {
     "iopub.execute_input": "2024-11-21T17:32:21.011670Z",
     "iopub.status.busy": "2024-11-21T17:32:21.011306Z",
     "iopub.status.idle": "2024-11-21T17:32:21.025776Z",
     "shell.execute_reply": "2024-11-21T17:32:21.024901Z"
    },
    "id": "lxlVzaePsSi6",
    "papermill": {
     "duration": 0.023471,
     "end_time": "2024-11-21T17:32:21.028213",
     "exception": false,
     "start_time": "2024-11-21T17:32:21.004742",
     "status": "completed"
    },
    "tags": []
   },
   "outputs": [],
   "source": [
    "features = [col for col in df.columns if col not in ['Depression']]\n",
    "target = ['Depression']\n",
    "\n",
    "X = df[features]\n",
    "y = df[target]\n",
    "\n",
    "X_train, X_test, y_train, y_test = train_test_split(X, y, random_state=42, test_size=0.2)"
   ]
  },
  {
   "cell_type": "markdown",
   "id": "6f5b0c22",
   "metadata": {
    "id": "EPkZms5MstDs",
    "papermill": {
     "duration": 0.005214,
     "end_time": "2024-11-21T17:32:21.038988",
     "exception": false,
     "start_time": "2024-11-21T17:32:21.033774",
     "status": "completed"
    },
    "tags": []
   },
   "source": [
    "## NN Baseline Model"
   ]
  },
  {
   "cell_type": "code",
   "execution_count": 10,
   "id": "d5f8ee6a",
   "metadata": {
    "execution": {
     "iopub.execute_input": "2024-11-21T17:32:21.051735Z",
     "iopub.status.busy": "2024-11-21T17:32:21.051376Z",
     "iopub.status.idle": "2024-11-21T17:32:30.270840Z",
     "shell.execute_reply": "2024-11-21T17:32:30.269823Z"
    },
    "id": "lzfDqzeBs7Rp",
    "outputId": "3e55a1b3-8c1d-48c2-d546-c6e689b523b6",
    "papermill": {
     "duration": 9.228726,
     "end_time": "2024-11-21T17:32:30.273317",
     "exception": false,
     "start_time": "2024-11-21T17:32:21.044591",
     "status": "completed"
    },
    "tags": []
   },
   "outputs": [
    {
     "name": "stdout",
     "output_type": "stream",
     "text": [
      "Epoch 1/50\n",
      "\u001b[1m52/52\u001b[0m \u001b[32m━━━━━━━━━━━━━━━━━━━━\u001b[0m\u001b[37m\u001b[0m \u001b[1m2s\u001b[0m 5ms/step - accuracy: 0.8935 - loss: 0.4340 - val_accuracy: 0.8954 - val_loss: 0.3192\n",
      "Epoch 2/50\n",
      "\u001b[1m52/52\u001b[0m \u001b[32m━━━━━━━━━━━━━━━━━━━━\u001b[0m\u001b[37m\u001b[0m \u001b[1m0s\u001b[0m 2ms/step - accuracy: 0.9078 - loss: 0.2612 - val_accuracy: 0.8954 - val_loss: 0.2402\n",
      "Epoch 3/50\n",
      "\u001b[1m52/52\u001b[0m \u001b[32m━━━━━━━━━━━━━━━━━━━━\u001b[0m\u001b[37m\u001b[0m \u001b[1m0s\u001b[0m 2ms/step - accuracy: 0.9036 - loss: 0.2162 - val_accuracy: 0.9002 - val_loss: 0.2118\n",
      "Epoch 4/50\n",
      "\u001b[1m52/52\u001b[0m \u001b[32m━━━━━━━━━━━━━━━━━━━━\u001b[0m\u001b[37m\u001b[0m \u001b[1m0s\u001b[0m 2ms/step - accuracy: 0.9065 - loss: 0.1989 - val_accuracy: 0.9148 - val_loss: 0.1947\n",
      "Epoch 5/50\n",
      "\u001b[1m52/52\u001b[0m \u001b[32m━━━━━━━━━━━━━━━━━━━━\u001b[0m\u001b[37m\u001b[0m \u001b[1m0s\u001b[0m 2ms/step - accuracy: 0.9120 - loss: 0.1934 - val_accuracy: 0.9075 - val_loss: 0.1900\n",
      "Epoch 6/50\n",
      "\u001b[1m52/52\u001b[0m \u001b[32m━━━━━━━━━━━━━━━━━━━━\u001b[0m\u001b[37m\u001b[0m \u001b[1m0s\u001b[0m 2ms/step - accuracy: 0.9223 - loss: 0.1954 - val_accuracy: 0.9221 - val_loss: 0.1746\n",
      "Epoch 7/50\n",
      "\u001b[1m52/52\u001b[0m \u001b[32m━━━━━━━━━━━━━━━━━━━━\u001b[0m\u001b[37m\u001b[0m \u001b[1m0s\u001b[0m 2ms/step - accuracy: 0.9378 - loss: 0.1541 - val_accuracy: 0.9294 - val_loss: 0.1668\n",
      "Epoch 8/50\n",
      "\u001b[1m52/52\u001b[0m \u001b[32m━━━━━━━━━━━━━━━━━━━━\u001b[0m\u001b[37m\u001b[0m \u001b[1m0s\u001b[0m 3ms/step - accuracy: 0.9383 - loss: 0.1522 - val_accuracy: 0.9173 - val_loss: 0.1690\n",
      "Epoch 9/50\n",
      "\u001b[1m52/52\u001b[0m \u001b[32m━━━━━━━━━━━━━━━━━━━━\u001b[0m\u001b[37m\u001b[0m \u001b[1m0s\u001b[0m 3ms/step - accuracy: 0.9278 - loss: 0.1440 - val_accuracy: 0.9440 - val_loss: 0.1537\n",
      "Epoch 10/50\n",
      "\u001b[1m52/52\u001b[0m \u001b[32m━━━━━━━━━━━━━━━━━━━━\u001b[0m\u001b[37m\u001b[0m \u001b[1m0s\u001b[0m 3ms/step - accuracy: 0.9448 - loss: 0.1463 - val_accuracy: 0.9513 - val_loss: 0.1537\n",
      "Epoch 11/50\n",
      "\u001b[1m52/52\u001b[0m \u001b[32m━━━━━━━━━━━━━━━━━━━━\u001b[0m\u001b[37m\u001b[0m \u001b[1m0s\u001b[0m 3ms/step - accuracy: 0.9445 - loss: 0.1420 - val_accuracy: 0.9343 - val_loss: 0.1461\n",
      "Epoch 12/50\n",
      "\u001b[1m52/52\u001b[0m \u001b[32m━━━━━━━━━━━━━━━━━━━━\u001b[0m\u001b[37m\u001b[0m \u001b[1m0s\u001b[0m 3ms/step - accuracy: 0.9502 - loss: 0.1313 - val_accuracy: 0.9392 - val_loss: 0.1402\n",
      "Epoch 13/50\n",
      "\u001b[1m52/52\u001b[0m \u001b[32m━━━━━━━━━━━━━━━━━━━━\u001b[0m\u001b[37m\u001b[0m \u001b[1m0s\u001b[0m 2ms/step - accuracy: 0.9560 - loss: 0.1188 - val_accuracy: 0.9392 - val_loss: 0.1385\n",
      "Epoch 14/50\n",
      "\u001b[1m52/52\u001b[0m \u001b[32m━━━━━━━━━━━━━━━━━━━━\u001b[0m\u001b[37m\u001b[0m \u001b[1m0s\u001b[0m 2ms/step - accuracy: 0.9554 - loss: 0.1255 - val_accuracy: 0.9392 - val_loss: 0.1397\n",
      "Epoch 15/50\n",
      "\u001b[1m52/52\u001b[0m \u001b[32m━━━━━━━━━━━━━━━━━━━━\u001b[0m\u001b[37m\u001b[0m \u001b[1m0s\u001b[0m 2ms/step - accuracy: 0.9591 - loss: 0.1134 - val_accuracy: 0.9513 - val_loss: 0.1291\n",
      "Epoch 16/50\n",
      "\u001b[1m52/52\u001b[0m \u001b[32m━━━━━━━━━━━━━━━━━━━━\u001b[0m\u001b[37m\u001b[0m \u001b[1m0s\u001b[0m 2ms/step - accuracy: 0.9583 - loss: 0.1236 - val_accuracy: 0.9465 - val_loss: 0.1269\n",
      "Epoch 17/50\n",
      "\u001b[1m52/52\u001b[0m \u001b[32m━━━━━━━━━━━━━━━━━━━━\u001b[0m\u001b[37m\u001b[0m \u001b[1m0s\u001b[0m 2ms/step - accuracy: 0.9562 - loss: 0.1170 - val_accuracy: 0.9416 - val_loss: 0.1338\n",
      "Epoch 18/50\n",
      "\u001b[1m52/52\u001b[0m \u001b[32m━━━━━━━━━━━━━━━━━━━━\u001b[0m\u001b[37m\u001b[0m \u001b[1m0s\u001b[0m 2ms/step - accuracy: 0.9627 - loss: 0.1137 - val_accuracy: 0.9635 - val_loss: 0.1197\n",
      "Epoch 19/50\n",
      "\u001b[1m52/52\u001b[0m \u001b[32m━━━━━━━━━━━━━━━━━━━━\u001b[0m\u001b[37m\u001b[0m \u001b[1m0s\u001b[0m 2ms/step - accuracy: 0.9570 - loss: 0.1078 - val_accuracy: 0.9513 - val_loss: 0.1197\n",
      "Epoch 20/50\n",
      "\u001b[1m52/52\u001b[0m \u001b[32m━━━━━━━━━━━━━━━━━━━━\u001b[0m\u001b[37m\u001b[0m \u001b[1m0s\u001b[0m 2ms/step - accuracy: 0.9680 - loss: 0.0990 - val_accuracy: 0.9489 - val_loss: 0.1187\n",
      "Epoch 21/50\n",
      "\u001b[1m52/52\u001b[0m \u001b[32m━━━━━━━━━━━━━━━━━━━━\u001b[0m\u001b[37m\u001b[0m \u001b[1m0s\u001b[0m 2ms/step - accuracy: 0.9670 - loss: 0.1171 - val_accuracy: 0.9513 - val_loss: 0.1180\n",
      "Epoch 22/50\n",
      "\u001b[1m52/52\u001b[0m \u001b[32m━━━━━━━━━━━━━━━━━━━━\u001b[0m\u001b[37m\u001b[0m \u001b[1m0s\u001b[0m 2ms/step - accuracy: 0.9710 - loss: 0.1031 - val_accuracy: 0.9562 - val_loss: 0.1116\n",
      "Epoch 23/50\n",
      "\u001b[1m52/52\u001b[0m \u001b[32m━━━━━━━━━━━━━━━━━━━━\u001b[0m\u001b[37m\u001b[0m \u001b[1m0s\u001b[0m 2ms/step - accuracy: 0.9675 - loss: 0.0966 - val_accuracy: 0.9562 - val_loss: 0.1118\n",
      "Epoch 24/50\n",
      "\u001b[1m52/52\u001b[0m \u001b[32m━━━━━━━━━━━━━━━━━━━━\u001b[0m\u001b[37m\u001b[0m \u001b[1m0s\u001b[0m 2ms/step - accuracy: 0.9685 - loss: 0.1005 - val_accuracy: 0.9708 - val_loss: 0.1061\n",
      "Epoch 25/50\n",
      "\u001b[1m52/52\u001b[0m \u001b[32m━━━━━━━━━━━━━━━━━━━━\u001b[0m\u001b[37m\u001b[0m \u001b[1m0s\u001b[0m 2ms/step - accuracy: 0.9711 - loss: 0.0929 - val_accuracy: 0.9586 - val_loss: 0.1083\n",
      "Epoch 26/50\n",
      "\u001b[1m52/52\u001b[0m \u001b[32m━━━━━━━━━━━━━━━━━━━━\u001b[0m\u001b[37m\u001b[0m \u001b[1m0s\u001b[0m 2ms/step - accuracy: 0.9715 - loss: 0.0932 - val_accuracy: 0.9635 - val_loss: 0.1064\n",
      "Epoch 27/50\n",
      "\u001b[1m52/52\u001b[0m \u001b[32m━━━━━━━━━━━━━━━━━━━━\u001b[0m\u001b[37m\u001b[0m \u001b[1m0s\u001b[0m 2ms/step - accuracy: 0.9680 - loss: 0.0857 - val_accuracy: 0.9586 - val_loss: 0.1058\n",
      "Epoch 28/50\n",
      "\u001b[1m52/52\u001b[0m \u001b[32m━━━━━━━━━━━━━━━━━━━━\u001b[0m\u001b[37m\u001b[0m \u001b[1m0s\u001b[0m 2ms/step - accuracy: 0.9604 - loss: 0.1035 - val_accuracy: 0.9440 - val_loss: 0.1386\n",
      "Epoch 29/50\n",
      "\u001b[1m52/52\u001b[0m \u001b[32m━━━━━━━━━━━━━━━━━━━━\u001b[0m\u001b[37m\u001b[0m \u001b[1m0s\u001b[0m 2ms/step - accuracy: 0.9705 - loss: 0.0866 - val_accuracy: 0.9635 - val_loss: 0.1043\n",
      "Epoch 30/50\n",
      "\u001b[1m52/52\u001b[0m \u001b[32m━━━━━━━━━━━━━━━━━━━━\u001b[0m\u001b[37m\u001b[0m \u001b[1m0s\u001b[0m 2ms/step - accuracy: 0.9682 - loss: 0.0837 - val_accuracy: 0.9538 - val_loss: 0.1109\n",
      "Epoch 31/50\n",
      "\u001b[1m52/52\u001b[0m \u001b[32m━━━━━━━━━━━━━━━━━━━━\u001b[0m\u001b[37m\u001b[0m \u001b[1m0s\u001b[0m 2ms/step - accuracy: 0.9695 - loss: 0.0948 - val_accuracy: 0.9611 - val_loss: 0.1061\n",
      "Epoch 32/50\n",
      "\u001b[1m52/52\u001b[0m \u001b[32m━━━━━━━━━━━━━━━━━━━━\u001b[0m\u001b[37m\u001b[0m \u001b[1m0s\u001b[0m 2ms/step - accuracy: 0.9657 - loss: 0.0925 - val_accuracy: 0.9659 - val_loss: 0.1022\n",
      "Epoch 33/50\n",
      "\u001b[1m52/52\u001b[0m \u001b[32m━━━━━━━━━━━━━━━━━━━━\u001b[0m\u001b[37m\u001b[0m \u001b[1m0s\u001b[0m 2ms/step - accuracy: 0.9726 - loss: 0.0907 - val_accuracy: 0.9659 - val_loss: 0.0939\n",
      "Epoch 34/50\n",
      "\u001b[1m52/52\u001b[0m \u001b[32m━━━━━━━━━━━━━━━━━━━━\u001b[0m\u001b[37m\u001b[0m \u001b[1m0s\u001b[0m 2ms/step - accuracy: 0.9720 - loss: 0.0884 - val_accuracy: 0.9513 - val_loss: 0.1148\n",
      "Epoch 35/50\n",
      "\u001b[1m52/52\u001b[0m \u001b[32m━━━━━━━━━━━━━━━━━━━━\u001b[0m\u001b[37m\u001b[0m \u001b[1m0s\u001b[0m 2ms/step - accuracy: 0.9699 - loss: 0.0883 - val_accuracy: 0.9635 - val_loss: 0.0965\n",
      "Epoch 36/50\n",
      "\u001b[1m52/52\u001b[0m \u001b[32m━━━━━━━━━━━━━━━━━━━━\u001b[0m\u001b[37m\u001b[0m \u001b[1m0s\u001b[0m 2ms/step - accuracy: 0.9704 - loss: 0.0859 - val_accuracy: 0.9538 - val_loss: 0.1166\n",
      "Epoch 37/50\n",
      "\u001b[1m52/52\u001b[0m \u001b[32m━━━━━━━━━━━━━━━━━━━━\u001b[0m\u001b[37m\u001b[0m \u001b[1m0s\u001b[0m 2ms/step - accuracy: 0.9507 - loss: 0.1159 - val_accuracy: 0.9611 - val_loss: 0.1011\n",
      "Epoch 38/50\n",
      "\u001b[1m52/52\u001b[0m \u001b[32m━━━━━━━━━━━━━━━━━━━━\u001b[0m\u001b[37m\u001b[0m \u001b[1m0s\u001b[0m 2ms/step - accuracy: 0.9710 - loss: 0.0764 - val_accuracy: 0.9757 - val_loss: 0.0841\n",
      "Epoch 39/50\n",
      "\u001b[1m52/52\u001b[0m \u001b[32m━━━━━━━━━━━━━━━━━━━━\u001b[0m\u001b[37m\u001b[0m \u001b[1m0s\u001b[0m 2ms/step - accuracy: 0.9764 - loss: 0.0746 - val_accuracy: 0.9586 - val_loss: 0.1042\n",
      "Epoch 40/50\n",
      "\u001b[1m52/52\u001b[0m \u001b[32m━━━━━━━━━━━━━━━━━━━━\u001b[0m\u001b[37m\u001b[0m \u001b[1m0s\u001b[0m 2ms/step - accuracy: 0.9744 - loss: 0.0756 - val_accuracy: 0.9781 - val_loss: 0.0810\n",
      "Epoch 41/50\n",
      "\u001b[1m52/52\u001b[0m \u001b[32m━━━━━━━━━━━━━━━━━━━━\u001b[0m\u001b[37m\u001b[0m \u001b[1m0s\u001b[0m 2ms/step - accuracy: 0.9851 - loss: 0.0668 - val_accuracy: 0.9635 - val_loss: 0.0972\n",
      "Epoch 42/50\n",
      "\u001b[1m52/52\u001b[0m \u001b[32m━━━━━━━━━━━━━━━━━━━━\u001b[0m\u001b[37m\u001b[0m \u001b[1m0s\u001b[0m 2ms/step - accuracy: 0.9713 - loss: 0.0746 - val_accuracy: 0.9781 - val_loss: 0.0790\n",
      "Epoch 43/50\n",
      "\u001b[1m52/52\u001b[0m \u001b[32m━━━━━━━━━━━━━━━━━━━━\u001b[0m\u001b[37m\u001b[0m \u001b[1m0s\u001b[0m 2ms/step - accuracy: 0.9829 - loss: 0.0654 - val_accuracy: 0.9732 - val_loss: 0.0804\n",
      "Epoch 44/50\n",
      "\u001b[1m52/52\u001b[0m \u001b[32m━━━━━━━━━━━━━━━━━━━━\u001b[0m\u001b[37m\u001b[0m \u001b[1m0s\u001b[0m 2ms/step - accuracy: 0.9782 - loss: 0.0758 - val_accuracy: 0.9781 - val_loss: 0.0784\n",
      "Epoch 45/50\n",
      "\u001b[1m52/52\u001b[0m \u001b[32m━━━━━━━━━━━━━━━━━━━━\u001b[0m\u001b[37m\u001b[0m \u001b[1m0s\u001b[0m 2ms/step - accuracy: 0.9812 - loss: 0.0683 - val_accuracy: 0.9659 - val_loss: 0.0932\n",
      "Epoch 46/50\n",
      "\u001b[1m52/52\u001b[0m \u001b[32m━━━━━━━━━━━━━━━━━━━━\u001b[0m\u001b[37m\u001b[0m \u001b[1m0s\u001b[0m 2ms/step - accuracy: 0.9805 - loss: 0.0669 - val_accuracy: 0.9757 - val_loss: 0.0751\n",
      "Epoch 47/50\n",
      "\u001b[1m52/52\u001b[0m \u001b[32m━━━━━━━━━━━━━━━━━━━━\u001b[0m\u001b[37m\u001b[0m \u001b[1m0s\u001b[0m 2ms/step - accuracy: 0.9768 - loss: 0.0664 - val_accuracy: 0.9635 - val_loss: 0.0880\n",
      "Epoch 48/50\n",
      "\u001b[1m52/52\u001b[0m \u001b[32m━━━━━━━━━━━━━━━━━━━━\u001b[0m\u001b[37m\u001b[0m \u001b[1m0s\u001b[0m 2ms/step - accuracy: 0.9705 - loss: 0.0747 - val_accuracy: 0.9781 - val_loss: 0.0774\n",
      "Epoch 49/50\n",
      "\u001b[1m52/52\u001b[0m \u001b[32m━━━━━━━━━━━━━━━━━━━━\u001b[0m\u001b[37m\u001b[0m \u001b[1m0s\u001b[0m 2ms/step - accuracy: 0.9756 - loss: 0.0783 - val_accuracy: 0.9538 - val_loss: 0.1173\n",
      "Epoch 50/50\n",
      "\u001b[1m52/52\u001b[0m \u001b[32m━━━━━━━━━━━━━━━━━━━━\u001b[0m\u001b[37m\u001b[0m \u001b[1m0s\u001b[0m 2ms/step - accuracy: 0.9711 - loss: 0.0887 - val_accuracy: 0.9757 - val_loss: 0.0762\n"
     ]
    }
   ],
   "source": [
    "model = tf.keras.models.Sequential([\n",
    "    tf.keras.layers.Input(shape=(len(features),)),\n",
    "    tf.keras.layers.Dense(16, activation='relu'),\n",
    "    tf.keras.layers.Dense(8, activation='relu'),\n",
    "    tf.keras.layers.Dense(4, activation='relu'),\n",
    "    tf.keras.layers.Dense(1, activation='sigmoid'),\n",
    "])\n",
    "\n",
    "model.compile(loss='binary_crossentropy',\n",
    "              optimizer='adam',\n",
    "              metrics=['accuracy'])\n",
    "\n",
    "history = model.fit(X_train,y_train, validation_data=[X_test,y_test], epochs = 50)"
   ]
  },
  {
   "cell_type": "markdown",
   "id": "1ee0fe0d",
   "metadata": {
    "id": "6m0_YvlZumPw",
    "papermill": {
     "duration": 0.016031,
     "end_time": "2024-11-21T17:32:30.307524",
     "exception": false,
     "start_time": "2024-11-21T17:32:30.291493",
     "status": "completed"
    },
    "tags": []
   },
   "source": [
    "# Model Evaluation"
   ]
  },
  {
   "cell_type": "code",
   "execution_count": 11,
   "id": "eae8c549",
   "metadata": {
    "execution": {
     "iopub.execute_input": "2024-11-21T17:32:30.341897Z",
     "iopub.status.busy": "2024-11-21T17:32:30.341522Z",
     "iopub.status.idle": "2024-11-21T17:32:30.967734Z",
     "shell.execute_reply": "2024-11-21T17:32:30.966631Z"
    },
    "id": "weRrQ-O6s8GV",
    "outputId": "61a38075-4a22-4269-e04f-56718779c465",
    "papermill": {
     "duration": 0.646685,
     "end_time": "2024-11-21T17:32:30.970584",
     "exception": false,
     "start_time": "2024-11-21T17:32:30.323899",
     "status": "completed"
    },
    "tags": []
   },
   "outputs": [
    {
     "data": {
      "image/png": "[encoded data removed]",
      "text/plain": [
       "<Figure size 1000x500 with 2 Axes>"
      ]
     },
     "metadata": {},
     "output_type": "display_data"
    }
   ],
   "source": [
    "acc = history.history['accuracy']\n",
    "val_acc = history.history['val_accuracy']\n",
    "loss = history.history['loss']\n",
    "val_loss = history.history['val_loss']\n",
    "\n",
    "fig, axes = plt.subplots(1, 2, figsize=(10, 5))\n",
    "axes[0].plot(acc, label='Train Accuracy')\n",
    "axes[0].plot(val_acc, label='Validation Accuracy')\n",
    "axes[0].set_title('Accuracy')\n",
    "axes[0].set_xlabel('Epochs')\n",
    "axes[0].set_ylabel('Accuracy')\n",
    "axes[0].legend()\n",
    "\n",
    "axes[1].plot(loss, label='Train Loss')\n",
    "axes[1].plot(val_loss, label='Validation Loss')\n",
    "axes[1].set_title('Loss')\n",
    "axes[1].set_xlabel('Epochs')\n",
    "axes[1].set_ylabel('Loss')\n",
    "axes[1].legend()\n",
    "\n",
    "plt.tight_layout()\n",
    "plt.show()"
   ]
  },
  {
   "cell_type": "code",
   "execution_count": 12,
   "id": "8890cff3",
   "metadata": {
    "execution": {
     "iopub.execute_input": "2024-11-21T17:32:31.008857Z",
     "iopub.status.busy": "2024-11-21T17:32:31.008084Z",
     "iopub.status.idle": "2024-11-21T17:32:31.214978Z",
     "shell.execute_reply": "2024-11-21T17:32:31.213731Z"
    },
    "id": "eyu5zVEivgKJ",
    "outputId": "b242b902-2348-4705-e6c4-cfc159ffc4da",
    "papermill": {
     "duration": 0.228053,
     "end_time": "2024-11-21T17:32:31.217094",
     "exception": false,
     "start_time": "2024-11-21T17:32:30.989041",
     "status": "completed"
    },
    "tags": []
   },
   "outputs": [
    {
     "name": "stdout",
     "output_type": "stream",
     "text": [
      "\u001b[1m13/13\u001b[0m \u001b[32m━━━━━━━━━━━━━━━━━━━━\u001b[0m\u001b[37m\u001b[0m \u001b[1m0s\u001b[0m 4ms/step\n",
      "accuracy: 0.98, precision: 0.95, f1 score: 0.88, recall: 0.81\n"
     ]
    }
   ],
   "source": [
    "pred_labels = (model.predict(X_test) > 0.5).astype(int)\n",
    "\n",
    "acc = accuracy_score(y_test, pred_labels)\n",
    "prec = precision_score(y_test, pred_labels)\n",
    "f1 = f1_score(y_test, pred_labels)\n",
    "recall = recall_score(y_test, pred_labels)\n",
    "print(f'accuracy: {acc:.2f}, precision: {prec:.2f}, f1 score: {f1:.2f}, recall: {recall:.2f}')"
   ]
  },
  {
   "cell_type": "code",
   "execution_count": 13,
   "id": "7606b5a2",
   "metadata": {
    "execution": {
     "iopub.execute_input": "2024-11-21T17:32:31.254339Z",
     "iopub.status.busy": "2024-11-21T17:32:31.253383Z",
     "iopub.status.idle": "2024-11-21T17:32:31.347688Z",
     "shell.execute_reply": "2024-11-21T17:32:31.346673Z"
    },
    "id": "PVjsvma_vTFp",
    "outputId": "cf598b2b-23b7-4254-af1b-64f38c1809c5",
    "papermill": {
     "duration": 0.114892,
     "end_time": "2024-11-21T17:32:31.349800",
     "exception": false,
     "start_time": "2024-11-21T17:32:31.234908",
     "status": "completed"
    },
    "tags": []
   },
   "outputs": [
    {
     "name": "stdout",
     "output_type": "stream",
     "text": [
      "\u001b[1m13/13\u001b[0m \u001b[32m━━━━━━━━━━━━━━━━━━━━\u001b[0m\u001b[37m\u001b[0m \u001b[1m0s\u001b[0m 1ms/step - accuracy: 0.9773 - loss: 0.0711 \n"
     ]
    },
    {
     "data": {
      "text/plain": [
       "[0.07617863267660141, 0.9756690859794617]"
      ]
     },
     "execution_count": 13,
     "metadata": {},
     "output_type": "execute_result"
    }
   ],
   "source": [
    "model.evaluate(X_test,y_test)"
   ]
  },
  {
   "cell_type": "code",
   "execution_count": 14,
   "id": "f6bdd720",
   "metadata": {
    "execution": {
     "iopub.execute_input": "2024-11-21T17:32:31.387614Z",
     "iopub.status.busy": "2024-11-21T17:32:31.386855Z",
     "iopub.status.idle": "2024-11-21T17:32:31.664283Z",
     "shell.execute_reply": "2024-11-21T17:32:31.663054Z"
    },
    "id": "4uZi1ukuwXBn",
    "outputId": "2962c57a-9b1c-4743-ca15-631ac64a4818",
    "papermill": {
     "duration": 0.299522,
     "end_time": "2024-11-21T17:32:31.667184",
     "exception": false,
     "start_time": "2024-11-21T17:32:31.367662",
     "status": "completed"
    },
    "tags": []
   },
   "outputs": [
    {
     "data": {
      "image/png": "[encoded data removed]",
      "text/plain": [
       "<Figure size 640x480 with 2 Axes>"
      ]
     },
     "metadata": {},
     "output_type": "display_data"
    }
   ],
   "source": [
    "cm = confusion_matrix(y_test, pred_labels)\n",
    "\n",
    "disp = ConfusionMatrixDisplay(confusion_matrix=cm, display_labels=[0, 1])\n",
    "disp.plot(cmap=plt.cm.Blues)\n",
    "plt.title('Confusion Matrix of the Model')\n",
    "plt.show()"
   ]
  },
  {
   "cell_type": "code",
   "execution_count": 15,
   "id": "4af7d50e",
   "metadata": {
    "execution": {
     "iopub.execute_input": "2024-11-21T17:32:31.709451Z",
     "iopub.status.busy": "2024-11-21T17:32:31.708280Z",
     "iopub.status.idle": "2024-11-21T17:32:31.724755Z",
     "shell.execute_reply": "2024-11-21T17:32:31.723577Z"
    },
    "id": "EbUWzU9VwdMi",
    "outputId": "5fd0aa94-bb1a-48d8-daf0-d3d4555d2035",
    "papermill": {
     "duration": 0.03862,
     "end_time": "2024-11-21T17:32:31.727109",
     "exception": false,
     "start_time": "2024-11-21T17:32:31.688489",
     "status": "completed"
    },
    "tags": []
   },
   "outputs": [
    {
     "name": "stdout",
     "output_type": "stream",
     "text": [
      "              precision    recall  f1-score   support\n",
      "\n",
      "           0       0.98      0.99      0.99       368\n",
      "           1       0.95      0.81      0.88        43\n",
      "\n",
      "    accuracy                           0.98       411\n",
      "   macro avg       0.96      0.90      0.93       411\n",
      "weighted avg       0.98      0.98      0.97       411\n",
      "\n"
     ]
    }
   ],
   "source": [
    "print(classification_report(y_test,pred_labels))"
   ]
  },
  {
   "cell_type": "code",
   "execution_count": 16,
   "id": "696c8a39",
   "metadata": {
    "execution": {
     "iopub.execute_input": "2024-11-21T17:32:31.768314Z",
     "iopub.status.busy": "2024-11-21T17:32:31.767933Z",
     "iopub.status.idle": "2024-11-21T17:32:32.140342Z",
     "shell.execute_reply": "2024-11-21T17:32:32.139130Z"
    },
    "id": "GdORZWwTw20a",
    "outputId": "2da41889-70aa-4966-a6e1-dd178eb20373",
    "papermill": {
     "duration": 0.397046,
     "end_time": "2024-11-21T17:32:32.143162",
     "exception": false,
     "start_time": "2024-11-21T17:32:31.746116",
     "status": "completed"
    },
    "tags": []
   },
   "outputs": [
    {
     "data": {
      "image/png": "[encoded data removed]",
      "text/plain": [
       "<Figure size 1200x600 with 1 Axes>"
      ]
     },
     "metadata": {},
     "output_type": "display_data"
    }
   ],
   "source": [
    "plt.figure(figsize=(12,6))\n",
    "\n",
    "df.corr()['Depression'].sort_values(ascending = True)[:-1].plot(kind='bar')\n",
    "plt.xlabel('Features')\n",
    "plt.ylabel('Correlation to blood pressure categories')\n",
    "plt.title('Features\\' correlation to the Depression')\n",
    "plt.show()"
   ]
  }
 ],
 "metadata": {
  "colab": {
   "provenance": []
  },
  "kaggle": {
   "accelerator": "none",
   "dataSources": [
    {
     "datasetId": 6125308,
     "sourceId": 9958890,
     "sourceType": "datasetVersion"
    }
   ],
   "dockerImageVersionId": 30786,
   "isGpuEnabled": false,
   "isInternetEnabled": true,
   "language": "python",
   "sourceType": "notebook"
  },
  "kernelspec": {
   "display_name": "Python 3",
   "language": "python",
   "name": "python3"
  },
  "language_info": {
   "codemirror_mode": {
    "name": "ipython",
    "version": 3
   },
   "file_extension": ".py",
   "mimetype": "text/x-python",
   "name": "python",
   "nbconvert_exporter": "python",
   "pygments_lexer": "ipython3",
   "version": "3.10.14"
  },
  "papermill": {
   "default_parameters": {},
   "duration": 30.869534,
   "end_time": "2024-11-21T17:32:33.807772",
   "environment_variables": {},
   "exception": null,
   "input_path": "__notebook__.ipynb",
   "output_path": "__notebook__.ipynb",
   "parameters": {},
   "start_time": "2024-11-21T17:32:02.938238",
   "version": "2.6.0"
  }
 },
 "nbformat": 4,
 "nbformat_minor": 5
}
